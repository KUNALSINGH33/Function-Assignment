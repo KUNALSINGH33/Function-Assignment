{
  "nbformat": 4,
  "nbformat_minor": 0,
  "metadata": {
    "colab": {
      "provenance": []
    },
    "kernelspec": {
      "name": "python3",
      "display_name": "Python 3"
    },
    "language_info": {
      "name": "python"
    }
  },
  "cells": [
    {
      "cell_type": "markdown",
      "source": [],
      "metadata": {
        "id": "NyJr7_jQSfYD"
      }
    },
    {
      "cell_type": "markdown",
      "source": [
        " # FUNCTIONS ASSIGNMENT :-\n",
        "\n",
        " # THEORY QUESTIONS\n",
        "\n",
        " **Q1. What is the difference between a function and a method in Python ?**\n",
        "\n",
        " **Answer :** Function: A block of code that performs a specific task, defined using def.\n",
        "\n",
        "Method: A function that belongs to an object (i.e., it is defined inside a class).\n",
        "\n"
      ],
      "metadata": {
        "id": "87JCdoksShdD"
      }
    },
    {
      "cell_type": "code",
      "source": [
        "# Function\n",
        "def add(a, b):\n",
        "    return a + b\n",
        "\n",
        "# Method (inside a class)\n",
        "class Math:\n",
        "    def multiply(self, x, y):\n",
        "        return x * y\n",
        "\n",
        "print(add(2, 3))          # Function call\n",
        "print(Math().multiply(4, 5))  # Method call\n"
      ],
      "metadata": {
        "colab": {
          "base_uri": "https://localhost:8080/"
        },
        "id": "AXA1r9StcMsG",
        "outputId": "71fc7785-ea1b-4467-9ca5-272d1ed19ded"
      },
      "execution_count": null,
      "outputs": [
        {
          "output_type": "stream",
          "name": "stdout",
          "text": [
            "5\n",
            "20\n"
          ]
        }
      ]
    },
    {
      "cell_type": "markdown",
      "source": [
        "**Q2. Explain the concept of function arguments and parameters in Python.**\n",
        "\n",
        "**Answer :**\n",
        "* Parameter: Variable listed in function definition.\n",
        "* Argument: Actual value passed to a function.\n",
        "\n",
        "\n"
      ],
      "metadata": {
        "id": "qX-x18aFclFp"
      }
    },
    {
      "cell_type": "code",
      "source": [
        "def greet(name):  # 'name' is a parameter\n",
        "    print(\"Hello\", name)\n",
        "\n",
        "greet(\"Rohan\")   # \"Rohan\" is an argument\n"
      ],
      "metadata": {
        "colab": {
          "base_uri": "https://localhost:8080/"
        },
        "id": "By_cJ2o6c9Lw",
        "outputId": "6a6be088-1f13-462a-867c-a294653a01a7"
      },
      "execution_count": null,
      "outputs": [
        {
          "output_type": "stream",
          "name": "stdout",
          "text": [
            "Hello Rohan\n"
          ]
        }
      ]
    },
    {
      "cell_type": "markdown",
      "source": [
        "**Q3. What are the different ways to define and call a function in Python ?**\n",
        "\n",
        "**Answer :** **Different ways to define and call a function**\n",
        "\n",
        "* Normal function\n",
        "* Function with default argument\n",
        "* Function with variable arguments *args\n",
        "* Function with keyword arguments **kwargs\n",
        "* Function with lambda function"
      ],
      "metadata": {
        "id": "H9ovaUnxdEWS"
      }
    },
    {
      "cell_type": "code",
      "source": [
        "# simple function\n",
        "def greet():\n",
        "    print(\"Hello, World!\")\n",
        "\n",
        "greet()   # calling\n"
      ],
      "metadata": {
        "colab": {
          "base_uri": "https://localhost:8080/"
        },
        "id": "qjM53utOe8Rh",
        "outputId": "552d3a24-2cf8-4d71-ffbe-4feb8b28970e"
      },
      "execution_count": null,
      "outputs": [
        {
          "output_type": "stream",
          "name": "stdout",
          "text": [
            "Hello, World!\n"
          ]
        }
      ]
    },
    {
      "cell_type": "code",
      "source": [
        "# Function with parameters\n",
        "def add(a, b):\n",
        "    return a + b\n",
        "\n",
        "print(add(5, 3))   # calling with arguments\n"
      ],
      "metadata": {
        "colab": {
          "base_uri": "https://localhost:8080/"
        },
        "id": "k-c7dzT4hbo5",
        "outputId": "495d4338-955f-44cf-bcfc-2f57d0c14c36"
      },
      "execution_count": null,
      "outputs": [
        {
          "output_type": "stream",
          "name": "stdout",
          "text": [
            "8\n"
          ]
        }
      ]
    },
    {
      "cell_type": "code",
      "source": [
        "# Function with default arguments\n",
        "\n",
        "def multiply(a, b=2):   # b has a default value\n",
        "    return a * b\n",
        "\n",
        "print(multiply(5))     # uses default b = 2 -> 10\n",
        "print(multiply(5, 3))  # overrides default -> 15\n"
      ],
      "metadata": {
        "colab": {
          "base_uri": "https://localhost:8080/"
        },
        "id": "nw4oW_FIhmcD",
        "outputId": "38c75ab8-990f-4963-8ba9-344628aa2696"
      },
      "execution_count": null,
      "outputs": [
        {
          "output_type": "stream",
          "name": "stdout",
          "text": [
            "10\n",
            "15\n"
          ]
        }
      ]
    },
    {
      "cell_type": "code",
      "source": [
        "#Function with Variable Arguments (*args)\n",
        "\n",
        "def sum_all(*nums):   # accepts many arguments\n",
        "    return sum(nums)\n",
        "\n",
        "print(sum_all(1, 2, 3, 4, 5))  # 15\n"
      ],
      "metadata": {
        "colab": {
          "base_uri": "https://localhost:8080/"
        },
        "id": "0MVBcX7Nh8_T",
        "outputId": "ed86892f-45be-470f-98e9-c5327e3cd278"
      },
      "execution_count": null,
      "outputs": [
        {
          "output_type": "stream",
          "name": "stdout",
          "text": [
            "15\n"
          ]
        }
      ]
    },
    {
      "cell_type": "code",
      "source": [
        "# Function with Keyword Arguments (**kwargs)\n",
        "\n",
        "def show_info(**data):   # accepts key-value pairs\n",
        "    for key, value in data.items():\n",
        "        print(key, \":\", value)\n",
        "\n",
        "show_info(name=\"Anil\", age=22, city=\"Delhi\")\n"
      ],
      "metadata": {
        "colab": {
          "base_uri": "https://localhost:8080/"
        },
        "id": "bkKwBJOEiPbA",
        "outputId": "9908fa68-31ea-46d0-9d7c-fbceb4e4e8e1"
      },
      "execution_count": null,
      "outputs": [
        {
          "output_type": "stream",
          "name": "stdout",
          "text": [
            "name : Anil\n",
            "age : 22\n",
            "city : Delhi\n"
          ]
        }
      ]
    },
    {
      "cell_type": "code",
      "source": [
        "# Anonymous (Lambda) Function\n",
        "\n",
        "square = lambda x: x * x\n",
        "print(square(6))   # 36\n"
      ],
      "metadata": {
        "colab": {
          "base_uri": "https://localhost:8080/"
        },
        "id": "u98okzjFipsh",
        "outputId": "3e8b9fd4-4c76-4799-f82e-84fbe67e6cd6"
      },
      "execution_count": null,
      "outputs": [
        {
          "output_type": "stream",
          "name": "stdout",
          "text": [
            "36\n"
          ]
        }
      ]
    },
    {
      "cell_type": "markdown",
      "source": [
        "**Q4. What is the purpose of the 'return' statement in a Python function ?**\n",
        "\n",
        "**Answer :**   \n",
        "* The **return** statement is used to **send a result from a function back to the caller.**\n",
        "* Without return, a function returns None by default.\n",
        "* return allows functions to produce a **value that can be stored, printed, or used in other operations.**\n",
        "* It also helps in **breaking out of a function** immediately.\n"
      ],
      "metadata": {
        "id": "ivaEeYtcjT26"
      }
    },
    {
      "cell_type": "code",
      "source": [
        "# Example\n",
        "\n",
        "def square(x):\n",
        "    return x * x\n",
        "\n",
        "result = square(5)\n",
        "print(result)  # 25\n"
      ],
      "metadata": {
        "colab": {
          "base_uri": "https://localhost:8080/"
        },
        "id": "xhqOspDOlg3m",
        "outputId": "f3f29169-7fe4-4092-abb2-dc5e3f272ea5"
      },
      "execution_count": null,
      "outputs": [
        {
          "output_type": "stream",
          "name": "stdout",
          "text": [
            "25\n"
          ]
        }
      ]
    },
    {
      "cell_type": "markdown",
      "source": [
        "**Q5. What are iterators in Python and how do they differ from iterables ?**\n",
        "\n",
        "**Answer :**\n",
        "* **Iterable:** An object that can be looped over (list, tuple, string).\n",
        "\n",
        "* **Iterator:** An object created using iter(), produces elements one by one with next().\n",
        "\n",
        "**Key Difference between Iterable and Iterator :**\n",
        "| Aspect           | **Iterable**                                               | **Iterator**                                              |\n",
        "| ---------------- | ---------------------------------------------------------- | --------------------------------------------------------- |\n",
        "| **Definition**   | An object which can return an iterator.                    | An object used to iterate (fetch) elements one at a time. |\n",
        "| **Examples**     | `list`, `tuple`, `string`, `set`, `dict`                   | Object created by `iter()` function or a generator.       |\n",
        "| **Methods Used** | Has `__iter__()` method (returns an iterator).             | Has `__next__()` and `__iter__()` methods.                |\n",
        "| **Usage**        | Provides a collection of elements that can be looped over. | Produces the next element from the collection when asked. |\n",
        "| **Exhaustion**   | Can be reused multiple times (e.g., looping a list again). | Gets exhausted once; after that, needs to be recreated.   |\n",
        "| **Conversion**   | `iter(iterable)` converts an iterable into an iterator.    | Directly used with `next()`.                              |\n"
      ],
      "metadata": {
        "id": "JeHkR0cklppf"
      }
    },
    {
      "cell_type": "code",
      "source": [
        "# Example\n",
        "\n",
        "# Iterable\n",
        "nums = [1, 2, 3]       # list is iterable\n",
        "\n",
        "# Iterator\n",
        "it = iter(nums)        # convert to iterator\n",
        "print(next(it))        # 1\n",
        "print(next(it))        # 2\n",
        "print(next(it))        # 3\n"
      ],
      "metadata": {
        "colab": {
          "base_uri": "https://localhost:8080/"
        },
        "id": "BmPq-pteqCwu",
        "outputId": "2f2dec14-9ea2-403b-ed47-bcbce705d9ba"
      },
      "execution_count": null,
      "outputs": [
        {
          "output_type": "stream",
          "name": "stdout",
          "text": [
            "1\n",
            "2\n",
            "3\n"
          ]
        }
      ]
    },
    {
      "cell_type": "markdown",
      "source": [
        "**Q6. Explain the concept of generators in Python and how they are defined.**\n",
        "\n",
        "**Answer :**\n",
        "* Special functions using yield instead of return.\n",
        "* Generate values lazily (one at a time)."
      ],
      "metadata": {
        "id": "slV6g_idqNbN"
      }
    },
    {
      "cell_type": "code",
      "source": [
        "# Example\n",
        "\n",
        "def my_gen():\n",
        "    yield 1\n",
        "    yield 2\n",
        "    yield 3\n",
        "\n",
        "for val in my_gen():\n",
        "    print(val)\n"
      ],
      "metadata": {
        "colab": {
          "base_uri": "https://localhost:8080/"
        },
        "id": "Vz6mbsEQriV5",
        "outputId": "e23d17c3-9732-4cd5-aa72-a7657a368601"
      },
      "execution_count": null,
      "outputs": [
        {
          "output_type": "stream",
          "name": "stdout",
          "text": [
            "1\n",
            "2\n",
            "3\n"
          ]
        }
      ]
    },
    {
      "cell_type": "markdown",
      "source": [
        "**Q7. What are the advantages of using generators over regular function ?**\n",
        "\n",
        "**Answer :**\n",
        "* Memory efficient (does not store all values at once).\n",
        "* Lazy evaluation (values generated only when needed).\n",
        "* Easy to implement with yield.\n",
        "* Useful for infinite sequences.\n",
        "* Generators can be chained together to create pipelines, processing data efficiently."
      ],
      "metadata": {
        "id": "fwARyBlSWiSY"
      }
    },
    {
      "cell_type": "code",
      "source": [
        "# Example: Generator vs Regular Function (Memory Efficiency)\n",
        "# Regular function returning a list of squares\n",
        "def squares_list(n):\n",
        "    result = []\n",
        "    for i in range(n):\n",
        "        result.append(i*i)\n",
        "    return result\n",
        "\n",
        "print(squares_list(5))\n",
        "\n",
        "# This function stores all values in memory at once. For very large n, this can consume huge memory."
      ],
      "metadata": {
        "colab": {
          "base_uri": "https://localhost:8080/"
        },
        "id": "DhcGm9hTXasr",
        "outputId": "ec4a89d9-5206-46f2-ec01-0a23bd99d3f1"
      },
      "execution_count": 1,
      "outputs": [
        {
          "output_type": "stream",
          "name": "stdout",
          "text": [
            "[0, 1, 4, 9, 16]\n"
          ]
        }
      ]
    },
    {
      "cell_type": "code",
      "source": [
        "# Generator function using yield\n",
        "def squares_gen(n):\n",
        "    for i in range(n):\n",
        "        yield i*i\n",
        "\n",
        "# Using generator\n",
        "for val in squares_gen(5):\n",
        "    print(val)\n",
        "\n",
        "# This function yields one value at a time. It doesn’t store everything, making it more memory-efficient."
      ],
      "metadata": {
        "colab": {
          "base_uri": "https://localhost:8080/"
        },
        "id": "LT9HEtZoX3DD",
        "outputId": "27a635cb-46f4-4b15-84d2-1dde1ca6b3bd"
      },
      "execution_count": 3,
      "outputs": [
        {
          "output_type": "stream",
          "name": "stdout",
          "text": [
            "0\n",
            "1\n",
            "4\n",
            "9\n",
            "16\n"
          ]
        }
      ]
    },
    {
      "cell_type": "markdown",
      "source": [
        "**Q8. What is a lambda function in Python and when is it typically used ?**\n",
        "\n",
        "**Answer :**\n",
        "* Lambda function are **anonymous**, one line function in Python that do not require a formal def block.\n",
        "* Used for short, simple operations.\n",
        "* They are defined using the lambda keyword, followed by arguments and a single expression.\n",
        "* Typical use cases include functional programming inline operations and passing functions as arguments to higher order function like map(), filter(), or sorted()."
      ],
      "metadata": {
        "id": "7gJu8erbYJF1"
      }
    },
    {
      "cell_type": "code",
      "source": [
        "# Normal function\n",
        "def square(x):\n",
        "    return x * x\n",
        "\n",
        "# Lambda function (short form)\n",
        "square_lambda = lambda x: x * x\n",
        "\n",
        "print(square(5))        # 25\n",
        "print(square_lambda(5)) # 25\n"
      ],
      "metadata": {
        "colab": {
          "base_uri": "https://localhost:8080/"
        },
        "id": "wj_ro5IMc5bY",
        "outputId": "c5607d40-790f-4d8d-d389-fc8811a4488e"
      },
      "execution_count": 5,
      "outputs": [
        {
          "output_type": "stream",
          "name": "stdout",
          "text": [
            "25\n",
            "25\n"
          ]
        }
      ]
    },
    {
      "cell_type": "code",
      "source": [
        "# Using lambda with map()\n",
        "nums = [1, 2, 3, 4, 5]\n",
        "\n",
        "# Double each number using lambda\n",
        "doubled = list(map(lambda x: x*2, nums))\n",
        "\n",
        "print(doubled)\n"
      ],
      "metadata": {
        "colab": {
          "base_uri": "https://localhost:8080/"
        },
        "id": "lev02hhGeHgu",
        "outputId": "e4c184f0-be69-4d59-e969-807a5e10ecc0"
      },
      "execution_count": 6,
      "outputs": [
        {
          "output_type": "stream",
          "name": "stdout",
          "text": [
            "[2, 4, 6, 8, 10]\n"
          ]
        }
      ]
    },
    {
      "cell_type": "code",
      "source": [
        "# Sorting with lambda\n",
        "\n",
        "students = [(\"Kunal\", 21), (\"Aman\", 19), (\"Riya\", 22)]\n",
        "\n",
        "# Sort by age using lambda\n",
        "students.sort(key=lambda x: x[1])\n",
        "\n",
        "print(students)\n"
      ],
      "metadata": {
        "colab": {
          "base_uri": "https://localhost:8080/"
        },
        "id": "HbJ3BcLseRS_",
        "outputId": "981e4e04-292d-4081-ec49-657e4f3122ca"
      },
      "execution_count": 7,
      "outputs": [
        {
          "output_type": "stream",
          "name": "stdout",
          "text": [
            "[('Aman', 19), ('Kunal', 21), ('Riya', 22)]\n"
          ]
        }
      ]
    },
    {
      "cell_type": "markdown",
      "source": [
        "**Q9. Explain the purpose and usage of the map() function in Python.**\n",
        "\n",
        "**Answer :**\n",
        "* The map() function applies a given function to each item of an iterable (like a list, tuple , etc.) and returns a map object, which is an iterator.\n",
        "* Useful when we want to perform the same operation on multiple items without using a loop.\n",
        "* Lazy evaluation: the values are computed only when iterated, saving memory for large\n",
        "datasets.\n",
        "\n",
        "### Common Uses of map() :\n",
        "* Transforming all elements in a list/tuple without using a loop.\n",
        "* Applying mathematical operations to all elements.\n",
        "* Preprocessing or cleaning data in bulk, e.g., converting strings to uppercase.\n",
        "* Chaining with filter() or reduce() for functional programming pipelines.\n",
        "\n",
        "Syntax:\n",
        "map(function, iterable)\n"
      ],
      "metadata": {
        "id": "6OEL6j2Wegmk"
      }
    },
    {
      "cell_type": "code",
      "source": [
        "# Example 1: Basic map with a named function\n",
        "# Function to greet a person\n",
        "def greet(name):\n",
        " return f\"Hello {name}!\"\n",
        "names = [\"Ritesh\", \"Alex\", \"Maya\"]\n",
        "# Apply greet function to each name\n",
        "greetings = map(greet, names)\n",
        "# Convert to list and print\n",
        "print(list(greetings))\n",
        "# Output: ['Hello Ritesh!', 'Hello Alex!', 'Hello Maya!']"
      ],
      "metadata": {
        "colab": {
          "base_uri": "https://localhost:8080/"
        },
        "id": "IF_t7D0Lib9_",
        "outputId": "9e32feec-ae97-4ebd-850d-0d4747b1723f"
      },
      "execution_count": 13,
      "outputs": [
        {
          "output_type": "stream",
          "name": "stdout",
          "text": [
            "['Hello Ritesh!', 'Hello Alex!', 'Hello Maya!']\n"
          ]
        }
      ]
    },
    {
      "cell_type": "code",
      "source": [
        "# Example 2: map with lambda function\n",
        "\n",
        "numbers = [1, 2, 3, 4, 5]\n",
        "# Square each number using lambda and map\n",
        "squared = map(lambda x: x**2, numbers)\n",
        "print(list(squared))\n",
        "# Output: [1, 4, 9, 16, 25]"
      ],
      "metadata": {
        "colab": {
          "base_uri": "https://localhost:8080/"
        },
        "id": "-eA8btYCjXXP",
        "outputId": "4558bb2f-3cf6-44a5-d2ee-27c73cbf0a77"
      },
      "execution_count": 14,
      "outputs": [
        {
          "output_type": "stream",
          "name": "stdout",
          "text": [
            "[1, 4, 9, 16, 25]\n"
          ]
        }
      ]
    },
    {
      "cell_type": "code",
      "source": [
        "# Example 3: map with multiple iterables\n",
        "\n",
        "numbers1 = [1, 2, 3]\n",
        "numbers2 = [4, 5, 6]\n",
        "# Add corresponding elements from two lists\n",
        "sum_list = map(lambda x, y: x + y, numbers1, numbers2)\n",
        "print(list(sum_list))\n",
        "# Output: [5, 7, 9]"
      ],
      "metadata": {
        "colab": {
          "base_uri": "https://localhost:8080/"
        },
        "id": "YjqY61Dvjg0f",
        "outputId": "95bcaed4-776b-47f8-87b6-a4daf9d2a6c8"
      },
      "execution_count": 15,
      "outputs": [
        {
          "output_type": "stream",
          "name": "stdout",
          "text": [
            "[5, 7, 9]\n"
          ]
        }
      ]
    },
    {
      "cell_type": "markdown",
      "source": [
        "**Q10. What is the difference between map(), reduce(), and filter() functions in Python ?**\n",
        "\n",
        "**Answer :**\n",
        "Python provides built-in functional programming tools like map() , reduce() , and filter()\n",
        "to process iterables efficiently:\n",
        "\n",
        "| **Function** | **Purpose** | **Returns** |\n",
        "|--------------|------------|-------------|\n",
        "| `map()`       | Applies a function to **each item** in an iterable | Map object (iterator) |\n",
        "| `reduce()`    | Applies a function **cumulatively** to items of an iterable, reducing it to a **single value** | Single value |\n",
        "| `filter()`    | Selects elements that **meet a condition** | Filter object (iterator) |\n",
        "\n",
        "Key Differences:\n",
        "1. **Purpose:**\n",
        "* map() → changes/transforms every element in an iterable.\n",
        "* filter() → chooses only certain elements that satisfy a condition.\n",
        "* reduce() → combines all elements to produce a single result.\n",
        "2. **Return Type:**\n",
        "* map() and filter() return iterators, which can be converted to a list.\n",
        "* reduce() returns a single value.\n",
        "3. **Number of Iterables:**\n",
        "* map() can work with one or more iterables.\n",
        "* filter() works with one iterable.\n",
        "* reduce() works with one iterable.\n",
        "4. **Use Case Example:**\n",
        "* map() → Transforming [1,2,3] into [1,4,9] (squares).\n",
        "* filter() → Picking [3,4,5] from [1,2,3,4,5] (numbers>2).\n",
        "* reduce() → Summing [1,2,3,4,5] into 15 .\n",
        "\n"
      ],
      "metadata": {
        "id": "Qj1Notirjr5g"
      }
    },
    {
      "cell_type": "code",
      "source": [
        "# Example 1: map()\n",
        "numbers = [1, 2, 3, 4, 5]\n",
        "# Square each number\n",
        "squared = map(lambda x: x**2, numbers)\n",
        "print(list(squared)) # Output: [1, 4, 9, 16, 25]\n"
      ],
      "metadata": {
        "colab": {
          "base_uri": "https://localhost:8080/"
        },
        "id": "0YqjUx46rv77",
        "outputId": "5ed0e52e-70a2-4da7-8d78-6e349ea66f52"
      },
      "execution_count": 16,
      "outputs": [
        {
          "output_type": "stream",
          "name": "stdout",
          "text": [
            "[1, 4, 9, 16, 25]\n"
          ]
        }
      ]
    },
    {
      "cell_type": "code",
      "source": [
        "# Example 2: filter()\n",
        "numbers = [1, 2, 3, 4, 5]\n",
        "# Keep numbers greater than 2\n",
        "filtered = filter(lambda x: x > 2, numbers)\n",
        "print(list(filtered)) # Output: [3, 4, 5]\n"
      ],
      "metadata": {
        "colab": {
          "base_uri": "https://localhost:8080/"
        },
        "id": "80DQhs9F5pSU",
        "outputId": "dd83e34b-342d-4bb6-c0f9-58b48aee7d83"
      },
      "execution_count": 17,
      "outputs": [
        {
          "output_type": "stream",
          "name": "stdout",
          "text": [
            "[3, 4, 5]\n"
          ]
        }
      ]
    },
    {
      "cell_type": "code",
      "source": [
        "# Example 3: reduce()\n",
        "from functools import reduce\n",
        "numbers = [1, 2, 3, 4, 5]\n",
        "# Sum all numbers cumulatively\n",
        "total = reduce(lambda x, y: x + y, numbers)\n",
        "print(total) # Output: 15"
      ],
      "metadata": {
        "colab": {
          "base_uri": "https://localhost:8080/"
        },
        "id": "TmD9FHvz5xNc",
        "outputId": "b7a21134-427f-41d5-bf52-163f328517f7"
      },
      "execution_count": 18,
      "outputs": [
        {
          "output_type": "stream",
          "name": "stdout",
          "text": [
            "15\n"
          ]
        }
      ]
    },
    {
      "cell_type": "markdown",
      "source": [
        "**Q11. Using pen & paper write the internal mechanism for sum operation using reduce function on the given list:\n",
        "[47,11,42,13]; (Attach paper image for this answer) in doc or colab notebook.**\n",
        "\n",
        "**Answer :** Reduce Function-Sum Operation(step by step)\n",
        "\n",
        "Given List : [47,11,42,13]\n",
        "\n",
        "Internal working of reduce(lambda x,y:x+y(47,11,42,13))\n",
        "\n",
        "Step 1: Take first two numbers → 47+11 = 58\n",
        "Step 2: Take result & next number → 58+42 = 100\n",
        "Step 3: Take result & next number → 100+13 = 113\n",
        "\n",
        "Final result = 113\n",
        "\n",
        "So, reduce processes pair by pair until one final result remains."
      ],
      "metadata": {
        "id": "HKYIdw2m55g-"
      }
    },
    {
      "cell_type": "markdown",
      "source": [
        "# Practical Questions 🇰\n",
        "\n",
        "**Q1. Write a Python function that takes a list of numbers as input and returns the sum of all even numbers in the list.**"
      ],
      "metadata": {
        "id": "zYf4KLOt9-rE"
      }
    },
    {
      "cell_type": "code",
      "source": [
        "def sum_of_evens(nums):\n",
        " return sum(n for n in nums if n % 2 == 0)\n",
        "print(sum_of_evens([1, 2, 3, 4, 5, 6, 7, 8]))"
      ],
      "metadata": {
        "colab": {
          "base_uri": "https://localhost:8080/"
        },
        "id": "TREvbuFA-RJV",
        "outputId": "5478f838-355b-40cf-ed4c-18df47d2610e"
      },
      "execution_count": 20,
      "outputs": [
        {
          "output_type": "stream",
          "name": "stdout",
          "text": [
            "20\n"
          ]
        }
      ]
    },
    {
      "cell_type": "markdown",
      "source": [],
      "metadata": {
        "id": "oVKRLwvE-ZhO"
      }
    },
    {
      "cell_type": "markdown",
      "source": [
        "**Q2. Create a Python function that accepts a string and\n",
        "returns the reverse of that string.**"
      ],
      "metadata": {
        "id": "0oREzLGH-ds2"
      }
    },
    {
      "cell_type": "code",
      "source": [
        "def reverse_string(s):\n",
        " return s[::-1]\n",
        "print(reverse_string(\"Ritesh\"))"
      ],
      "metadata": {
        "colab": {
          "base_uri": "https://localhost:8080/"
        },
        "id": "RwEuLa64-ljB",
        "outputId": "e656ec14-248d-4ad0-e90c-03077273e901"
      },
      "execution_count": 21,
      "outputs": [
        {
          "output_type": "stream",
          "name": "stdout",
          "text": [
            "hsetiR\n"
          ]
        }
      ]
    },
    {
      "cell_type": "markdown",
      "source": [
        "**Q3. Implement a Python function that takes a list of\n",
        "integers and returns a new list containing the squares of\n",
        "each number.**"
      ],
      "metadata": {
        "id": "oV2ZJ6lf-s5p"
      }
    },
    {
      "cell_type": "code",
      "source": [
        "def squares(nums):\n",
        "    return [n*n for n in nums]\n",
        "\n",
        "print(squares([1,2,3,4]))\n"
      ],
      "metadata": {
        "colab": {
          "base_uri": "https://localhost:8080/"
        },
        "id": "nPiqfpFl-0aj",
        "outputId": "f9e661ac-1c62-4bc2-f8ff-f3f3f5ec5b6e"
      },
      "execution_count": 22,
      "outputs": [
        {
          "output_type": "stream",
          "name": "stdout",
          "text": [
            "[1, 4, 9, 16]\n"
          ]
        }
      ]
    },
    {
      "cell_type": "markdown",
      "source": [
        "**Q4. Write a Python function that checks if a given\n",
        "number is prime or not from 1 to 200.**"
      ],
      "metadata": {
        "id": "RNd8XTEZ-8N6"
      }
    },
    {
      "cell_type": "code",
      "source": [
        "def is_prime(num):\n",
        "    if num < 2:\n",
        "        return False\n",
        "    for i in range(2, int(num**0.5)+1):\n",
        "        if num % i == 0:\n",
        "            return False\n",
        "    return True\n",
        "\n",
        "print([n for n in range(1,201) if is_prime(n)])\n"
      ],
      "metadata": {
        "colab": {
          "base_uri": "https://localhost:8080/"
        },
        "id": "byqyXOna_Ell",
        "outputId": "2e17baed-3218-43e7-b3db-9ca33f322234"
      },
      "execution_count": 23,
      "outputs": [
        {
          "output_type": "stream",
          "name": "stdout",
          "text": [
            "[2, 3, 5, 7, 11, 13, 17, 19, 23, 29, 31, 37, 41, 43, 47, 53, 59, 61, 67, 71, 73, 79, 83, 89, 97, 101, 103, 107, 109, 113, 127, 131, 137, 139, 149, 151, 157, 163, 167, 173, 179, 181, 191, 193, 197, 199]\n"
          ]
        }
      ]
    },
    {
      "cell_type": "markdown",
      "source": [
        "**Q5. Create an iterator class in Python that generates the\n",
        "Fibonacci sequence up to a specified number of terms.**"
      ],
      "metadata": {
        "id": "8m0TXGRj_OSM"
      }
    },
    {
      "cell_type": "code",
      "source": [
        "class Fibonacci:\n",
        "    def __init__(self, n):\n",
        "        self.n = n\n",
        "        self.a, self.b = 0, 1\n",
        "        self.count = 0\n",
        "\n",
        "    def __iter__(self):\n",
        "        return self\n",
        "\n",
        "    def __next__(self):\n",
        "        if self.count < self.n:\n",
        "            self.count += 1\n",
        "            self.a, self.b = self.b, self.a+self.b\n",
        "            return self.a\n",
        "        else:\n",
        "            raise StopIteration\n",
        "\n",
        "for num in Fibonacci(10):\n",
        "    print(num)\n"
      ],
      "metadata": {
        "colab": {
          "base_uri": "https://localhost:8080/"
        },
        "id": "UdGWQjQ4Fbua",
        "outputId": "9b0775d5-1448-42e6-9c54-3e8d72b4686b"
      },
      "execution_count": 24,
      "outputs": [
        {
          "output_type": "stream",
          "name": "stdout",
          "text": [
            "1\n",
            "1\n",
            "2\n",
            "3\n",
            "5\n",
            "8\n",
            "13\n",
            "21\n",
            "34\n",
            "55\n"
          ]
        }
      ]
    },
    {
      "cell_type": "markdown",
      "source": [
        "**Q6. Write a generator function in Python that yields the\n",
        "powers of 2 up to a given exponent.**"
      ],
      "metadata": {
        "id": "cMLYllkbFm6M"
      }
    },
    {
      "cell_type": "code",
      "source": [
        "def power_of_two(exp):\n",
        "    for i in range(exp+1):\n",
        "        yield 2**i\n",
        "\n",
        "print(list(power_of_two(5)))\n"
      ],
      "metadata": {
        "colab": {
          "base_uri": "https://localhost:8080/"
        },
        "id": "czxPJ7t9FuBj",
        "outputId": "d4911cc8-ac1f-4180-ce6f-7272651dcb32"
      },
      "execution_count": 25,
      "outputs": [
        {
          "output_type": "stream",
          "name": "stdout",
          "text": [
            "[1, 2, 4, 8, 16, 32]\n"
          ]
        }
      ]
    },
    {
      "cell_type": "markdown",
      "source": [
        "**Q7. Implement a generator function that reads a file line\n",
        "by line and yields each line as a string.**"
      ],
      "metadata": {
        "id": "YVMwRIozFyTW"
      }
    },
    {
      "cell_type": "code",
      "source": [
        "# Step 1: Create a sample file\n",
        "with open(\"sample.txt\", \"w\") as f:\n",
        "    f.write(\"Hello\\n\")\n",
        "    f.write(\"This is Legend\\n\")\n",
        "    f.write(\"Learning Python\\n\")\n",
        "\n",
        "# Step 2: Generator function to read file line by line\n",
        "def read_file_line_by_line(filename):\n",
        "    with open(filename, \"r\") as file:\n",
        "        for line in file:\n",
        "            yield line.strip()  # strip() removes \\n at the end\n",
        "\n",
        "# Step 3: Use the generator\n",
        "for line in read_file_line_by_line(\"sample.txt\"):\n",
        "    print(line)"
      ],
      "metadata": {
        "colab": {
          "base_uri": "https://localhost:8080/"
        },
        "id": "eaZ4CxeEF3bM",
        "outputId": "94809477-303a-4e5f-da40-266a4f808505"
      },
      "execution_count": 33,
      "outputs": [
        {
          "output_type": "stream",
          "name": "stdout",
          "text": [
            "Hello\n",
            "This is Ritesh\n",
            "Learning Python\n"
          ]
        }
      ]
    },
    {
      "cell_type": "markdown",
      "source": [
        "**Q8. Use a lambda function in Python to sort a list of\n",
        "tuples based on the second element of each tuple.**\n"
      ],
      "metadata": {
        "id": "xhN8hvCtIISx"
      }
    },
    {
      "cell_type": "code",
      "source": [
        "pairs = [(1,5),(2,6),(4,2)]\n",
        "pairs.sort(key=lambda x: x[1])\n",
        "print(pairs)\n"
      ],
      "metadata": {
        "colab": {
          "base_uri": "https://localhost:8080/"
        },
        "id": "UUYFpSrUIV_E",
        "outputId": "f4fd0fb9-0f04-4581-b43e-01a46d7ffaf4"
      },
      "execution_count": 37,
      "outputs": [
        {
          "output_type": "stream",
          "name": "stdout",
          "text": [
            "[(4, 2), (1, 5), (2, 6)]\n"
          ]
        }
      ]
    },
    {
      "cell_type": "markdown",
      "source": [
        "**Q9. Write a Python program that uses map() to convert a\n",
        "list of temperatures from Celsius to Fahrenheit.**"
      ],
      "metadata": {
        "id": "3c7yGvTUJI5k"
      }
    },
    {
      "cell_type": "code",
      "source": [
        "temps_c = [0, 20, 30, 40]\n",
        "temps_f = list(map(lambda celsius: (celsius*9/5)+32, temps_c))\n",
        "print(temps_c)\n",
        "print(temps_f)\n"
      ],
      "metadata": {
        "colab": {
          "base_uri": "https://localhost:8080/"
        },
        "id": "G3AGIYLCJOb8",
        "outputId": "dd95d102-e62c-42cd-950f-92b6c15fad8f"
      },
      "execution_count": 40,
      "outputs": [
        {
          "output_type": "stream",
          "name": "stdout",
          "text": [
            "[0, 20, 30, 40]\n",
            "[32.0, 68.0, 86.0, 104.0]\n"
          ]
        }
      ]
    },
    {
      "cell_type": "markdown",
      "source": [
        "**Q10. Create a Python program that uses filter() to\n",
        "remove all the vowels from a given string**\n"
      ],
      "metadata": {
        "id": "Rwj4_4kdJvJj"
      }
    },
    {
      "cell_type": "code",
      "source": [
        "s = \"Hello World\"\n",
        "result = ''.join(filter(lambda ch: ch.lower() not in \"aeiou\", s))\n",
        "print(result)\n"
      ],
      "metadata": {
        "colab": {
          "base_uri": "https://localhost:8080/"
        },
        "id": "4V2Q1BS_J1M0",
        "outputId": "a500a468-968e-4226-bb6a-e8c019d0c8bd"
      },
      "execution_count": 41,
      "outputs": [
        {
          "output_type": "stream",
          "name": "stdout",
          "text": [
            "Hll Wrld\n"
          ]
        }
      ]
    },
    {
      "cell_type": "markdown",
      "source": [
        "**Q11. Imagine an accounting routine used in a book\n",
        "shop. It works on a list with sublists, which look like this:**\n",
        "\n",
        "| **Order Number** | **Book Title and Author** |   **Quantity** | **Price per Item** |\n",
        "|------------|-------------|---------|----------|\n",
        "|34587       |Learning Python, Mark Lutz|4|40.95|\n",
        "|98762|Programming Python, Mark Lutz|5|56.80|\n",
        "|77226|Head First Python, paul Berry|3|32.95|\n",
        "|88112|Einführung in Python3, Bernd Klein|3|24.99|\n",
        "\n",
        "**Write a a Python program, which returns a list with 2-tuples. Each tuple\n",
        "consists of the order number and the product of the price per item and the\n",
        "quantity. The product should be increased by 10,- € if the value of the order is\n",
        "smaller than 100,00 €.**\n",
        "\n",
        "**Write a Python program using lambda and map.**"
      ],
      "metadata": {
        "id": "hES0UIaFKDjt"
      }
    },
    {
      "cell_type": "code",
      "source": [
        "orders = [\n",
        "    [34587, \"Learning Python\", 4, 40.95],\n",
        "    [98762, \"Programming Python\", 5, 56.80],\n",
        "    [77226, \"Head First Python\", 3, 32.95],\n",
        "    [88112, \"Einführung in Python3\", 3, 24.99]\n",
        "]\n",
        "\n",
        "result = list(map(lambda order:\n",
        "    (order[0], order[2]*order[3] + (10 if order[2]*order[3] < 100 else 0)),\n",
        "    orders))\n",
        "\n",
        "print(result)\n"
      ],
      "metadata": {
        "colab": {
          "base_uri": "https://localhost:8080/"
        },
        "id": "JB4n1G2HN4aK",
        "outputId": "da11f727-cb8a-4685-8a9e-e85ffb020d51"
      },
      "execution_count": 43,
      "outputs": [
        {
          "output_type": "stream",
          "name": "stdout",
          "text": [
            "[(34587, 163.8), (98762, 284.0), (77226, 108.85000000000001), (88112, 84.97)]\n"
          ]
        }
      ]
    }
  ]
}